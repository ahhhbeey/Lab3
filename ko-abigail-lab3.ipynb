{
 "cells": [
  {
   "cell_type": "markdown",
   "metadata": {},
   "source": [
    "185602\n",
    "Ko\n",
    "3 BS ITE"
   ]
  },
  {
   "cell_type": "markdown",
   "metadata": {},
   "source": [
    "## Problem 1: Social Media"
   ]
  },
  {
   "cell_type": "code",
   "execution_count": 11,
   "metadata": {},
   "outputs": [
    {
     "name": "stdout",
     "output_type": "stream",
     "text": [
      "follower\n",
      "followed by\n",
      "none\n"
     ]
    }
   ],
   "source": [
    "social_graph = {\n",
    "    \"@bongolpoc\":{\"first_name\":\"Joselito\",\n",
    "                  \"last_name\":\"Olpoc\",\n",
    "                  \"following\":[\n",
    "                  ]\n",
    "    },\n",
    "    \"@joaquin\":  {\"first_name\":\"Joaquin\",\n",
    "                  \"last_name\":\"Gonzales\",\n",
    "                  \"following\":[\n",
    "                      \"@chums\",\"@jobenilagan\"\n",
    "                  ]\n",
    "    },\n",
    "    \"@chums\" : {\"first_name\":\"Matthew\",\n",
    "                \"last_name\":\"Uy\",\n",
    "                \"following\":[\n",
    "                    \"@bongolpoc\",\"@miketan\",\"@rudyang\",\"@joeilagan\"\n",
    "                ]\n",
    "    },\n",
    "    \"@jobenilagan\":{\"first_name\":\"Joben\",\n",
    "                   \"last_name\":\"Ilagan\",\n",
    "                   \"following\":[\n",
    "                    \"@eeebeee\",\"@joeilagan\",\"@chums\",\"@joaquin\"\n",
    "                   ]\n",
    "    },\n",
    "    \"@joeilagan\":{\"first_name\":\"Joe\",\n",
    "                  \"last_name\":\"Ilagan\",\n",
    "                  \"following\":[\n",
    "                    \"@eeebeee\",\"@jobenilagan\",\"@chums\"\n",
    "                  ]\n",
    "    },\n",
    "    \"@eeebeee\":  {\"first_name\":\"Elizabeth\",\n",
    "                  \"last_name\":\"Ilagan\",\n",
    "                  \"following\":[\n",
    "                    \"@jobenilagan\",\"@joeilagan\"\n",
    "                  ]\n",
    "    },\n",
    "}\n",
    "\n",
    "def relationship_status(from_member, to_member) :\n",
    "  Following = False\n",
    "  Follower = False\n",
    "\n",
    "  for i in social_graph :\n",
    "    if i == from_member :\n",
    "      for x in social_graph[i][\"following\"] :\n",
    "        if x == to_member :\n",
    "          Following = True\n",
    "    if i == to_member :\n",
    "      for x in social_graph[i][\"following\"] :\n",
    "        if x == from_member :\n",
    "          Follower = True\n",
    "\n",
    "  if Following and Follower :\n",
    "    print(\"friends\")\n",
    "\n",
    "  elif Following :\n",
    "    print(\"follower\")\n",
    "\n",
    "  elif Follower :\n",
    "    print(\"followed by\")\n",
    "\n",
    "  else :\n",
    "    print(\"none\")\n",
    "\n",
    "relationship_status(\"@joaquin\", \"@chums\")\n",
    "relationship_status(\"@bongolpoc\", \"@chums\")\n",
    "relationship_status(\"@bongolpoc\", \"@jobenilagan\")"
   ]
  },
  {
   "cell_type": "markdown",
   "metadata": {},
   "source": [
    "## Problem 2: Tic Tac Toe"
   ]
  },
  {
   "cell_type": "code",
   "execution_count": 15,
   "metadata": {},
   "outputs": [
    {
     "name": "stdout",
     "output_type": "stream",
     "text": [
      "O\n"
     ]
    }
   ],
   "source": [
    "board1 = [\n",
    "['X','X','O'],\n",
    "['O','X','O'],\n",
    "['O','','X'],\n",
    "]\n",
    "\n",
    "board2 = [\n",
    "['X','X','O'],\n",
    "['O','X','O'],\n",
    "['','O','X'],\n",
    "]\n",
    "\n",
    "board3 = [\n",
    "['O','X','O'],\n",
    "['','O','X'],\n",
    "['X','X','O'],\n",
    "]\n",
    "\n",
    "board4 = [\n",
    "['X','X','X'],\n",
    "['O','X','O'],\n",
    "['O','','O'],\n",
    "]\n",
    "\n",
    "board5 = [\n",
    "['X','X','O'],\n",
    "['O','X','O'],\n",
    "['X','','O'],\n",
    "]\n",
    "\n",
    "board6 = [\n",
    "['X','X','O'],\n",
    "['O','X','O'],\n",
    "['X','',''],\n",
    "]\n",
    "\n",
    "def get_winner(board) :\n",
    "     winner = None\n",
    "\n",
    "     for row in board :\n",
    "          if row.count('X') == 3 :\n",
    "               winner = 'X'\n",
    "          if row.count('O') == 3 :\n",
    "               winner = 'O'\n",
    "\n",
    "     for i in range(0,3) :\n",
    "          column = []\n",
    "          for row in board :\n",
    "               column.append(row[i])\n",
    "          if column.count('X') ==3 :\n",
    "               winner = 'X'\n",
    "          if column.count('O') == 3 :\n",
    "               winner = 'O'\n",
    "\n",
    "     diagonal1 = [r[i] for i, r in enumerate(board)]\n",
    "     diagonal2 = [r[-i-1] for i, r in enumerate(board)]\n",
    "     if diagonal1.count('X') == 3 :\n",
    "          winner = 'X'\n",
    "     if diagonal1.count('O') == 3 :\n",
    "          winner = 'O'\n",
    "     if diagonal2.count('X') == 3 :\n",
    "          winner = 'X'\n",
    "     if diagonal2.count('O') == 3 :\n",
    "          winner = 'O'\n",
    "\n",
    "\n",
    "     print(winner)\n",
    "\n",
    "get_winner(board3)"
   ]
  },
  {
   "cell_type": "markdown",
   "metadata": {},
   "source": [
    "## Problem 3: Time"
   ]
  },
  {
   "cell_type": "code",
   "execution_count": 22,
   "metadata": {},
   "outputs": [
    {
     "name": "stdout",
     "output_type": "stream",
     "text": [
      "ETA: 55\n",
      "ETA: 90\n",
      "ETA: 35\n"
     ]
    }
   ],
   "source": [
    "locations = {\n",
    "    \"admu\":{\n",
    "        \"name\":\"Ateneo de Manila University\",\n",
    "        \"latitude\":14.6394557,\n",
    "        \"longitude\":121.0758975\n",
    "    },\n",
    "    \"upd\":{\n",
    "        \"name\":\"University of the Philippines-Diliman Campus\",\n",
    "        \"latitude\":14.6538519,\n",
    "        \"longitude\":121.0663348\n",
    "    },\n",
    "    \"dlsu\":{\n",
    "        \"name\":\"De La Salle University-Taft\",\n",
    "        \"latitude\":14.5647346,\n",
    "        \"longitude\":120.9909876\n",
    "\n",
    "    }, # <-- Note that Python does not complain about this extra comma. This is perfectly okay.\n",
    "       #     The creators of Python saw that dictionaries tend to be changed a lot, so allowing this is a\n",
    "       #     convenience for developers who need to add elements when needed.\n",
    "}\n",
    "\n",
    "legs = {\n",
    "     (\"upd\",\"admu\"):{\n",
    "         \"travel_time_mins\":10\n",
    "     },\n",
    "     (\"admu\",\"dlsu\"):{\n",
    "         \"travel_time_mins\":35\n",
    "     },\n",
    "     (\"dlsu\", \"upd\"):{\n",
    "         \"travel_time_mins\":55\n",
    "     },\n",
    "}\n",
    "\n",
    "def eta(source, destination) :\n",
    "    loc = source\n",
    "    time = 0\n",
    "    for i in legs :\n",
    "        if i[0] == loc :\n",
    "            time += legs[i][\"travel_time_mins\"]\n",
    "            if i[1] == destination :\n",
    "                break\n",
    "            else :\n",
    "                loc = i[1]\n",
    "    print(\"ETA:\", time)\n",
    "\n",
    "\n",
    "eta(\"dlsu\", \"upd\")\n",
    "eta(\"admu\", \"upd\")\n",
    "eta(\"admu\", \"dlsu\")\n"
   ]
  }
 ],
 "metadata": {
  "kernelspec": {
   "display_name": "Python 3",
   "language": "python",
   "name": "python3"
  },
  "language_info": {
   "codemirror_mode": {
    "name": "ipython",
    "version": 3
   },
   "file_extension": ".py",
   "mimetype": "text/x-python",
   "name": "python",
   "nbconvert_exporter": "python",
   "pygments_lexer": "ipython3",
   "version": "3.8.3"
  }
 },
 "nbformat": 4,
 "nbformat_minor": 4
}
